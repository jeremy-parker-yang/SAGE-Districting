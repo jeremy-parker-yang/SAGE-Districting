{
 "cells": [
  {
   "cell_type": "markdown",
   "id": "04166f8c",
   "metadata": {},
   "source": [
    "# Distribution Sampling Test\n",
    "\n",
    "Goal: Compare methods of sampling from a matrix"
   ]
  },
  {
   "cell_type": "code",
   "execution_count": 25,
   "id": "da1b1354",
   "metadata": {},
   "outputs": [],
   "source": [
    "import numpy as np\n",
    "import matplotlib.pyplot as plt\n",
    "from matplotlib import colors"
   ]
  },
  {
   "cell_type": "markdown",
   "id": "0810de96",
   "metadata": {},
   "source": [
    "## Sampling Techniques"
   ]
  },
  {
   "cell_type": "code",
   "execution_count": 26,
   "id": "c33b49dc",
   "metadata": {},
   "outputs": [],
   "source": [
    "def metropolis_hastings(distribution,num_samples,start):\n",
    "    '''\n",
    "    Generate samples, get acceptance rate from metropolis-hastings sampling.\n",
    "    Assume that all transition probabilities are equal (ignore conditional probs)\n",
    "    \n",
    "    param distribution: probability distribution (2D list)\n",
    "    parma start: number of iterations to run before saving samples\n",
    "    param num_counts: number of samples to generate\n",
    "    return: sample counts (2D list)\n",
    "    '''\n",
    "    \n",
    "    # initialize\n",
    "    n = len(distribution)\n",
    "    ip = np.random.randint(0,n)\n",
    "    jp = np.random.randint(0,n)\n",
    "    for i in range(start):\n",
    "        ic = np.random.randint(0,n)\n",
    "        jc = np.random.randint(0,n)\n",
    "        a = np.random.uniform()\n",
    "        \n",
    "        # accept\n",
    "        if distribution[ic][jc]/distribution[ip][jp] > a:\n",
    "            ip = ic\n",
    "            jp = jc\n",
    "            \n",
    "    # generate samples\n",
    "    counts = [[0 for j in range(n)] for i in range(n)]\n",
    "    for i in range(num_samples):\n",
    "        ic = np.random.randint(0,n)\n",
    "        jc = np.random.randint(0,n)\n",
    "        a = np.random.uniform()\n",
    "        \n",
    "        # accept\n",
    "        if distribution[ic][jc]/distribution[ip][jp] > a:\n",
    "            ip = ic\n",
    "            jp = jc\n",
    "\n",
    "        # add to count\n",
    "        counts[ip][jp] += 1\n",
    "        \n",
    "    return counts"
   ]
  },
  {
   "cell_type": "code",
   "execution_count": 27,
   "id": "9846fece",
   "metadata": {},
   "outputs": [],
   "source": [
    "def rejection_sampling(distribution,num_samples):\n",
    "    '''\n",
    "    Generate samples, get acceptance rate from rejection sampling\n",
    "    \n",
    "    param distribution: probability distribution (2D list)\n",
    "    param num_counts: number of samples to generate\n",
    "    return: sample counts (2D list), % acceptance\n",
    "    '''\n",
    "    \n",
    "    # normalize distribution\n",
    "    n = len(distribution)\n",
    "    max_prob = max([max(distribution[i]) for i in range(n)])\n",
    "    d = [[distribution[i][j]/max_prob for j in range(n)] for i in range(n)]\n",
    "    \n",
    "    # generate samples\n",
    "    trials = 0\n",
    "    accepted = 0\n",
    "    counts = [[0 for j in range(n)] for i in range(n)]\n",
    "    while(accepted < num_samples):\n",
    "        i = np.random.randint(0,n)\n",
    "        j = np.random.randint(0,n)\n",
    "        a = np.random.uniform()\n",
    "        trials += 1\n",
    "        \n",
    "        # accept\n",
    "        if d[i][j] > a:\n",
    "            counts[i][j] += 1\n",
    "            accepted += 1\n",
    "        \n",
    "    return (counts,accepted/trials)"
   ]
  },
  {
   "cell_type": "markdown",
   "id": "542f1662",
   "metadata": {},
   "source": [
    "## Helpers: Error and Matrix Printing"
   ]
  },
  {
   "cell_type": "code",
   "execution_count": 28,
   "id": "8a01fa28",
   "metadata": {},
   "outputs": [],
   "source": [
    "def compare_distributions(distribution,counts,num_samples):\n",
    "    '''\n",
    "    Measure how well a sampling method matches a distribution\n",
    "    \n",
    "    param distribution: probability distribution (2D list)\n",
    "    param counts: samples generated from distribution (2D list)\n",
    "    param num_samples: total counts\n",
    "    return: residual matrix, error\n",
    "    '''\n",
    "    \n",
    "    # normalize distribution\n",
    "    n = len(distribution)\n",
    "    d_sum = 0\n",
    "    for i in range(n):\n",
    "        for j in range(n):\n",
    "            d_sum += distribution[i][j]\n",
    "    d = [[distribution[i][j]/d_sum for j in range(n)] for i in range(n)]\n",
    "    \n",
    "    # get residual and error\n",
    "    residual = [[(counts[i][j]/num_samples) - d[i][j] for j in range(n)] for i in range(n)]\n",
    "    error = 0\n",
    "    for i in range(n):\n",
    "        for j in range(n):\n",
    "            error += residual[i][j] **2\n",
    "    return (residual,error)"
   ]
  },
  {
   "cell_type": "code",
   "execution_count": 29,
   "id": "4f109010",
   "metadata": {},
   "outputs": [],
   "source": [
    "def mprint(A, name=\"\", b=2, a=3):\n",
    "    m = float(\"0.\" + \"0\" * (a - 1) + \"1\")\n",
    "    name += ' = '\n",
    "    for row in A:\n",
    "        print(name, end='')\n",
    "        name = ' ' * len(name)\n",
    "        for elm in row:\n",
    "            if elm != 0:\n",
    "                s = str(round(elm, a))\n",
    "                d = s.find('.')\n",
    "                if d == -1: d = len(s)\n",
    "                if len(s) > a + b + 1 or (elm < m) or d > b:\n",
    "                    s = str(\"{:e}\".format(elm))\n",
    "                    e, d = s.find('e'), s.find('.')\n",
    "                    rm = max(len(s) - (a + b + 1), e - d - a)\n",
    "                    s = '*' if e - d < rm else s[:e - rm] + s[e:]\n",
    "                    s = ' ' * (len(s) - b - max(0, len(s) - b)) + s\n",
    "                    s = s + ' ' * (a + b + 1 - len(s))\n",
    "                else:\n",
    "                    s = ' ' * (b - d) + s\n",
    "                    s = s + ' ' * (a + b + 1 - len(s))\n",
    "            else:\n",
    "                s = ' ' * (b - 1) + '0' + ' ' * (a + 1)\n",
    "            print(s + \"  \", end='')\n",
    "        print()\n",
    "    print()"
   ]
  },
  {
   "cell_type": "markdown",
   "id": "eb97b591",
   "metadata": {},
   "source": [
    "## Test 1"
   ]
  },
  {
   "cell_type": "code",
   "execution_count": 30,
   "id": "f26ad617",
   "metadata": {},
   "outputs": [
    {
     "name": "stdout",
     "output_type": "stream",
     "text": [
      "distribution 1 =  5.1  12.6   0     1.8   3.3  \n",
      "                  8.9  11.3   5.9  35.3   2.9  \n",
      "                  6.3   9.2   8.4   3.9   5.7  \n",
      "                  1.8   8.4   1.9   4.1   5.5  \n",
      "                  6.2  42.8  11.2  11.1  13.0  \n",
      "\n"
     ]
    }
   ],
   "source": [
    "# define distribution\n",
    "distribution_1 = [[5.1,12.6,0.0,1.8,3.3],\n",
    "                  [8.9,11.3,5.9,35.3,2.9],\n",
    "                  [6.3,9.2,8.4,3.9,5.7],\n",
    "                  [1.8,8.4,1.9,4.1,5.5],\n",
    "                  [6.2,42.8,11.2,11.1,13.0]]\n",
    "mprint(distribution_1,'distribution 1',2,1)\n",
    "n = 5\n",
    "num_samples = 1000"
   ]
  },
  {
   "cell_type": "code",
   "execution_count": 31,
   "id": "34346e70",
   "metadata": {},
   "outputs": [
    {
     "name": "stdout",
     "output_type": "stream",
     "text": [
      "rejection sampling: 0.2094240837696335 acceptance rate\n",
      "     --> error 0.0003676818232453501\n",
      "     --> residual = -4e-03  -1e-03   0      -9e-04   0.002  \n",
      "                    -7e-03   0.003   0.003   0.003  -2e-03  \n",
      "                    1.e-04  -5e-03  -6e-05  7.e-04  -4e-03  \n",
      "                     0.002  -5e-03   0.003  9.e-04  -4e-03  \n",
      "                     0.003   0.004  -3e-03   0.007   0.008  \n",
      "\n"
     ]
    },
    {
     "data": {
      "text/plain": [
       "Text(0.5, 1.0, 'Rejection Sampling Test 1')"
      ]
     },
     "execution_count": 31,
     "metadata": {},
     "output_type": "execute_result"
    },
    {
     "data": {
      "image/png": "[encoded data removed]",
      "text/plain": [
       "<Figure size 432x288 with 1 Axes>"
      ]
     },
     "metadata": {
      "needs_background": "light"
     },
     "output_type": "display_data"
    }
   ],
   "source": [
    "# rejection sampling\n",
    "counts, acceptance = rejection_sampling(distribution_1, num_samples)\n",
    "residual, error = compare_distributions(distribution_1,counts,num_samples)\n",
    "print('rejection sampling:', acceptance, 'acceptance rate')\n",
    "print('     --> error',error)\n",
    "mprint(residual, '     --> residual',2,3)\n",
    "# plot\n",
    "fig, ax = plt.subplots()\n",
    "vmin = min([min(residual[i]) for i in range(n)])\n",
    "vmax = max([max(residual[i]) for i in range(n)])\n",
    "divnorm=colors.TwoSlopeNorm(vmin=vmin, vcenter=0, vmax=vmax)\n",
    "ax.matshow(residual, cmap='RdBu',norm=divnorm)\n",
    "for i in range(n):\n",
    "    for j in range(n):\n",
    "        c = distribution_1[i][j]\n",
    "        ax.text(i, j, str(c), va='center', ha='center')\n",
    "plt.title('Rejection Sampling Test 1')"
   ]
  },
  {
   "cell_type": "code",
   "execution_count": 32,
   "id": "9cd906e7",
   "metadata": {},
   "outputs": [
    {
     "name": "stdout",
     "output_type": "stream",
     "text": [
      "metropolis_hastings:\n",
      "     --> error 0.005966393208947023\n",
      "     --> residual =  0.013   0.017   0      -3e-03  -5e-04  \n",
      "                     0.012   0.002  -3e-05  -6e-02  -7e-04  \n",
      "                    -9e-03  -1e-02   0.008   0.005  -5e-03  \n",
      "                    -1e-03   0.006  6.e-04   0.005  7.e-04  \n",
      "                    -3e-03   0.032  5.e-04  -4e-03   0.003  \n",
      "\n"
     ]
    },
    {
     "data": {
      "image/png": "[encoded data removed]",
      "text/plain": [
       "<Figure size 432x288 with 1 Axes>"
      ]
     },
     "metadata": {
      "needs_background": "light"
     },
     "output_type": "display_data"
    }
   ],
   "source": [
    "# metropolis-hastings\n",
    "counts = metropolis_hastings(distribution_1, num_samples,1000)\n",
    "residual, error = compare_distributions(distribution_1,counts,num_samples)\n",
    "print('metropolis_hastings:')\n",
    "print('     --> error',error)\n",
    "mprint(residual, '     --> residual',2,3)\n",
    "# plot\n",
    "fig, ax = plt.subplots()\n",
    "vmin = min([min(residual[i]) for i in range(n)])\n",
    "vmax = max([max(residual[i]) for i in range(n)])\n",
    "divnorm=colors.TwoSlopeNorm(vmin=vmin, vcenter=0, vmax=vmax)\n",
    "ax.matshow(residual, cmap='RdBu',norm=divnorm)\n",
    "for i in range(n):\n",
    "    for j in range(n):\n",
    "        c = distribution_1[i][j]\n",
    "        ax.text(i, j, str(c), va='center', ha='center')\n",
    "plt.title('Metropolis-Hastings Test 1')\n",
    "plt.show()"
   ]
  },
  {
   "cell_type": "markdown",
   "id": "4bafdeeb",
   "metadata": {},
   "source": [
    "## Test 2"
   ]
  },
  {
   "cell_type": "code",
   "execution_count": 33,
   "id": "7dbef659",
   "metadata": {},
   "outputs": [],
   "source": [
    "# define distribution\n",
    "distribution_2 = np.random.rand(30,30)\n",
    "large = set()\n",
    "for ii in range(8):\n",
    "    i = np.random.randint(0,30)\n",
    "    j = np.random.randint(0,30)\n",
    "    large.add((i,j))\n",
    "    distribution_2[i][j] += np.random.rand()*20\n",
    "small = set()\n",
    "for ii in range(8):\n",
    "    i = np.random.randint(0,30)\n",
    "    j = np.random.randint(0,30)\n",
    "    small.add((i,j))\n",
    "    distribution_2[i][j] += np.random.rand()*0.01\n",
    "#mprint(distribution_2,'distribution 2',2,2)\n",
    "n = 30\n",
    "num_samples = 1000"
   ]
  },
  {
   "cell_type": "code",
   "execution_count": 34,
   "id": "cd6fc244",
   "metadata": {},
   "outputs": [
    {
     "name": "stdout",
     "output_type": "stream",
     "text": [
      "rejection sampling: 0.03266479388515058 acceptance rate\n",
      "     --> error 0.001149762056999906\n"
     ]
    },
    {
     "data": {
      "image/png": "[encoded data removed]",
      "text/plain": [
       "<Figure size 432x288 with 1 Axes>"
      ]
     },
     "metadata": {
      "needs_background": "light"
     },
     "output_type": "display_data"
    },
    {
     "name": "stdout",
     "output_type": "stream",
     "text": [
      "     --> min residual -0.014173976990730752\n",
      "     --> max residual 0.008833464583799404\n",
      "\n"
     ]
    },
    {
     "data": {
      "image/png": "[encoded data removed]",
      "text/plain": [
       "<Figure size 432x288 with 1 Axes>"
      ]
     },
     "metadata": {
      "needs_background": "light"
     },
     "output_type": "display_data"
    }
   ],
   "source": [
    "# rejection sampling\n",
    "counts, acceptance = rejection_sampling(distribution_2, num_samples)\n",
    "residual, error = compare_distributions(distribution_2,counts,num_samples)\n",
    "print('rejection sampling:', acceptance, 'acceptance rate')\n",
    "print('     --> error',error)\n",
    "#mprint(residual, '     --> residual',2,3)\n",
    "# plot\n",
    "fig, ax = plt.subplots()\n",
    "vmin = min([min(residual[i]) for i in range(n)])\n",
    "vmax = max([max(residual[i]) for i in range(n)])\n",
    "divnorm=colors.TwoSlopeNorm(vmin=vmin, vcenter=0, vmax=vmax)\n",
    "ax.matshow(residual, cmap='RdBu',norm=divnorm)\n",
    "for elm in large:\n",
    "    ax.text(elm[0], elm[1], 'L', va='center', ha='center',fontsize = 'xx-small')\n",
    "for elm in small:\n",
    "    ax.text(elm[0], elm[1], 'S', va='center', ha='center',fontsize = 'xx-small')\n",
    "plt.title('Rejection Sampling Test 2')\n",
    "plt.show()\n",
    "print('     --> min residual',vmin)\n",
    "print('     --> max residual',vmax)\n",
    "print()\n",
    "plt.hist([j for sub in residual for j in sub],bins = 30)\n",
    "plt.title('Rejection Sampling Test 2 Residual Distribution')\n",
    "plt.show()"
   ]
  },
  {
   "cell_type": "code",
   "execution_count": 35,
   "id": "30ea82bc",
   "metadata": {},
   "outputs": [
    {
     "name": "stdout",
     "output_type": "stream",
     "text": [
      "Metropolis-Hastings:\n",
      "     --> error 0.007768320902967772\n"
     ]
    },
    {
     "data": {
      "image/png": "[encoded data removed]",
      "text/plain": [
       "<Figure size 432x288 with 1 Axes>"
      ]
     },
     "metadata": {
      "needs_background": "light"
     },
     "output_type": "display_data"
    },
    {
     "name": "stdout",
     "output_type": "stream",
     "text": [
      "     --> min residual -0.03552774726439888\n",
      "     --> max residual 0.06082602300926925\n"
     ]
    },
    {
     "data": {
      "image/png": "[encoded data removed]",
      "text/plain": [
       "<Figure size 432x288 with 1 Axes>"
      ]
     },
     "metadata": {
      "needs_background": "light"
     },
     "output_type": "display_data"
    }
   ],
   "source": [
    "# metropolis-hastings\n",
    "counts = metropolis_hastings(distribution_2, num_samples,1000)\n",
    "residual, error = compare_distributions(distribution_2,counts,num_samples)\n",
    "print('Metropolis-Hastings:')\n",
    "print('     --> error',error)\n",
    "#mprint(residual, '     --> residual',2,3)\n",
    "# plot\n",
    "fig, ax = plt.subplots()\n",
    "vmin = min([min(residual[i]) for i in range(n)])\n",
    "vmax = max([max(residual[i]) for i in range(n)])\n",
    "divnorm=colors.TwoSlopeNorm(vmin=vmin, vcenter=0, vmax=vmax)\n",
    "ax.matshow(residual, cmap='RdBu',norm=divnorm)\n",
    "for elm in large:\n",
    "    ax.text(elm[0], elm[1], 'L', va='center', ha='center',fontsize = 'xx-small')\n",
    "for elm in small:\n",
    "    ax.text(elm[0], elm[1], 'S', va='center', ha='center',fontsize = 'xx-small')\n",
    "plt.title('Metropolis-Hastings Test 2')\n",
    "plt.show()\n",
    "print('     --> min residual',vmin)\n",
    "print('     --> max residual',vmax)\n",
    "plt.hist([j for sub in residual for j in sub],bins=30)\n",
    "plt.title('Metropolis-Hastings Test 2 Residual Distribution')\n",
    "plt.show()"
   ]
  }
 ],
 "metadata": {
  "kernelspec": {
   "display_name": "Python 3 (ipykernel)",
   "language": "python",
   "name": "python3"
  },
  "language_info": {
   "codemirror_mode": {
    "name": "ipython",
    "version": 3
   },
   "file_extension": ".py",
   "mimetype": "text/x-python",
   "name": "python",
   "nbconvert_exporter": "python",
   "pygments_lexer": "ipython3",
   "version": "3.9.6"
  }
 },
 "nbformat": 4,
 "nbformat_minor": 5
}
